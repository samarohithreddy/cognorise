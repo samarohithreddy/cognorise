{
 "cells": [
  {
   "cell_type": "code",
   "execution_count": 1,
   "id": "13eff6aa",
   "metadata": {},
   "outputs": [],
   "source": [
    "# Import necessary libraries\n",
    "import pandas as pd\n",
    "from sklearn.model_selection import train_test_split\n",
    "from sklearn.feature_extraction.text import CountVectorizer\n",
    "from sklearn.linear_model import LogisticRegression\n",
    "from sklearn.ensemble import RandomForestClassifier, AdaBoostClassifier\n",
    "from sklearn.neighbors import KNeighborsClassifier\n",
    "from sklearn.metrics import accuracy_score, classification_report, confusion_matrix"
   ]
  },
  {
   "cell_type": "code",
   "execution_count": 2,
   "id": "519af701",
   "metadata": {},
   "outputs": [],
   "source": [
    "# Load the dataset\n",
    "file_path = 'spam.csv'\n",
    "data = pd.read_csv(file_path)\n"
   ]
  },
  {
   "cell_type": "code",
   "execution_count": 10,
   "id": "29f28741",
   "metadata": {},
   "outputs": [
    {
     "name": "stdout",
     "output_type": "stream",
     "text": [
      "First few rows of the dataset:\n",
      "  Category                                            Message\n",
      "0      ham  Go until jurong point, crazy.. Available only ...\n",
      "1      ham                      Ok lar... Joking wif u oni...\n",
      "2     spam  Free entry in 2 a wkly comp to win FA Cup fina...\n",
      "3      ham  U dun say so early hor... U c already then say...\n",
      "4      ham  Nah I don't think he goes to usf, he lives aro...\n"
     ]
    }
   ],
   "source": [
    "# Inspect the data\n",
    "print(\"First few rows of the dataset:\")\n",
    "print(data.head())"
   ]
  },
  {
   "cell_type": "code",
   "execution_count": 11,
   "id": "8c71a049",
   "metadata": {},
   "outputs": [
    {
     "name": "stdout",
     "output_type": "stream",
     "text": [
      "\n",
      "Info about the dataset:\n",
      "<class 'pandas.core.frame.DataFrame'>\n",
      "RangeIndex: 5572 entries, 0 to 5571\n",
      "Data columns (total 2 columns):\n",
      " #   Column    Non-Null Count  Dtype \n",
      "---  ------    --------------  ----- \n",
      " 0   Category  5572 non-null   object\n",
      " 1   Message   5572 non-null   object\n",
      "dtypes: object(2)\n",
      "memory usage: 87.2+ KB\n",
      "None\n"
     ]
    }
   ],
   "source": [
    "print(\"\\nInfo about the dataset:\")\n",
    "print(data.info())\n"
   ]
  },
  {
   "cell_type": "code",
   "execution_count": 12,
   "id": "dae7d83b",
   "metadata": {},
   "outputs": [
    {
     "name": "stdout",
     "output_type": "stream",
     "text": [
      "\n",
      "Column names in the dataset:\n",
      "Index(['Category', 'Message'], dtype='object')\n"
     ]
    }
   ],
   "source": [
    "print(\"\\nColumn names in the dataset:\")\n",
    "print(data.columns)"
   ]
  },
  {
   "cell_type": "code",
   "execution_count": 27,
   "id": "c7d6c782",
   "metadata": {},
   "outputs": [],
   "source": [
    "email_column = 'Message'  # Replace with the correct column name if different\n",
    "label_column = 'Category'    \n"
   ]
  },
  {
   "cell_type": "code",
   "execution_count": 28,
   "id": "2c8c41a3",
   "metadata": {},
   "outputs": [],
   "source": [
    "# Data preprocessing\n",
    "data = data[[email_column, label_column]]\n",
    "data = data.dropna()"
   ]
  },
  {
   "cell_type": "code",
   "execution_count": 29,
   "id": "604083f6",
   "metadata": {},
   "outputs": [],
   "source": [
    "# Convert labels to binary (0 for ham, 1 for spam)\n",
    "data[label_column] = data[label_column].map({'ham': 0, 'spam': 1})\n"
   ]
  },
  {
   "cell_type": "code",
   "execution_count": 30,
   "id": "731fd60e",
   "metadata": {},
   "outputs": [],
   "source": [
    "# Split the data into training and testing sets\n",
    "X_train, X_test, y_train, y_test = train_test_split(data[email_column], data[label_column], test_size=0.2, random_state=42)"
   ]
  },
  {
   "cell_type": "code",
   "execution_count": 31,
   "id": "622f0776",
   "metadata": {},
   "outputs": [],
   "source": [
    "# Vectorize the email text\n",
    "vectorizer = CountVectorizer()\n",
    "X_train_vec = vectorizer.fit_transform(X_train)\n",
    "X_test_vec = vectorizer.transform(X_test)\n"
   ]
  },
  {
   "cell_type": "code",
   "execution_count": 32,
   "id": "fe5d539b",
   "metadata": {},
   "outputs": [],
   "source": [
    "# Function to train and evaluate models\n",
    "def train_and_evaluate(model, model_name):\n",
    "    model.fit(X_train_vec, y_train)\n",
    "    y_pred = model.predict(X_test_vec)\n",
    "    print(f\"\\n{model_name} Accuracy: {accuracy_score(y_test, y_pred)}\")\n",
    "    print(f\"Classification Report for {model_name}:\\n{classification_report(y_test, y_pred)}\")\n",
    "    print(f\"Confusion Matrix for {model_name}:\\n{confusion_matrix(y_test, y_pred)}\")\n"
   ]
  },
  {
   "cell_type": "code",
   "execution_count": 33,
   "id": "047b47cb",
   "metadata": {},
   "outputs": [
    {
     "name": "stdout",
     "output_type": "stream",
     "text": [
      "\n",
      "Logistic Regression Accuracy: 0.9865470852017937\n",
      "Classification Report for Logistic Regression:\n",
      "              precision    recall  f1-score   support\n",
      "\n",
      "           0       0.98      1.00      0.99       966\n",
      "           1       1.00      0.90      0.95       149\n",
      "\n",
      "    accuracy                           0.99      1115\n",
      "   macro avg       0.99      0.95      0.97      1115\n",
      "weighted avg       0.99      0.99      0.99      1115\n",
      "\n",
      "Confusion Matrix for Logistic Regression:\n",
      "[[966   0]\n",
      " [ 15 134]]\n"
     ]
    }
   ],
   "source": [
    "# Train and evaluate models\n",
    "# 1. Logistic Regression\n",
    "log_reg = LogisticRegression()\n",
    "train_and_evaluate(log_reg, \"Logistic Regression\")"
   ]
  },
  {
   "cell_type": "code",
   "execution_count": 34,
   "id": "d6a38911",
   "metadata": {},
   "outputs": [
    {
     "name": "stdout",
     "output_type": "stream",
     "text": [
      "\n",
      "Random Forest Classifier Accuracy: 0.9811659192825112\n",
      "Classification Report for Random Forest Classifier:\n",
      "              precision    recall  f1-score   support\n",
      "\n",
      "           0       0.98      1.00      0.99       966\n",
      "           1       1.00      0.86      0.92       149\n",
      "\n",
      "    accuracy                           0.98      1115\n",
      "   macro avg       0.99      0.93      0.96      1115\n",
      "weighted avg       0.98      0.98      0.98      1115\n",
      "\n",
      "Confusion Matrix for Random Forest Classifier:\n",
      "[[966   0]\n",
      " [ 21 128]]\n"
     ]
    }
   ],
   "source": [
    "# 2. Random Forest Classifier\n",
    "rf_clf = RandomForestClassifier()\n",
    "train_and_evaluate(rf_clf, \"Random Forest Classifier\")\n"
   ]
  },
  {
   "cell_type": "code",
   "execution_count": 35,
   "id": "17f8aa99",
   "metadata": {},
   "outputs": [
    {
     "name": "stdout",
     "output_type": "stream",
     "text": [
      "\n",
      "AdaBoosting Classifier Accuracy: 0.9704035874439462\n",
      "Classification Report for AdaBoosting Classifier:\n",
      "              precision    recall  f1-score   support\n",
      "\n",
      "           0       0.98      0.99      0.98       966\n",
      "           1       0.93      0.84      0.88       149\n",
      "\n",
      "    accuracy                           0.97      1115\n",
      "   macro avg       0.95      0.91      0.93      1115\n",
      "weighted avg       0.97      0.97      0.97      1115\n",
      "\n",
      "Confusion Matrix for AdaBoosting Classifier:\n",
      "[[957   9]\n",
      " [ 24 125]]\n"
     ]
    }
   ],
   "source": [
    "# 3. AdaBoosting Classifier\n",
    "ada_clf = AdaBoostClassifier()\n",
    "train_and_evaluate(ada_clf, \"AdaBoosting Classifier\")\n"
   ]
  },
  {
   "cell_type": "code",
   "execution_count": 36,
   "id": "c471df0d",
   "metadata": {},
   "outputs": [
    {
     "name": "stdout",
     "output_type": "stream",
     "text": [
      "\n",
      "K-Nearest Neighbors Accuracy: 0.9264573991031391\n",
      "Classification Report for K-Nearest Neighbors:\n",
      "              precision    recall  f1-score   support\n",
      "\n",
      "           0       0.92      1.00      0.96       966\n",
      "           1       1.00      0.45      0.62       149\n",
      "\n",
      "    accuracy                           0.93      1115\n",
      "   macro avg       0.96      0.72      0.79      1115\n",
      "weighted avg       0.93      0.93      0.91      1115\n",
      "\n",
      "Confusion Matrix for K-Nearest Neighbors:\n",
      "[[966   0]\n",
      " [ 82  67]]\n"
     ]
    }
   ],
   "source": [
    "# 4. K-Nearest Neighbors\n",
    "knn_clf = KNeighborsClassifier()\n",
    "train_and_evaluate(knn_clf, \"K-Nearest Neighbors\")"
   ]
  },
  {
   "cell_type": "code",
   "execution_count": null,
   "id": "e1068cc8",
   "metadata": {},
   "outputs": [],
   "source": []
  }
 ],
 "metadata": {
  "kernelspec": {
   "display_name": "Python 3 (ipykernel)",
   "language": "python",
   "name": "python3"
  },
  "language_info": {
   "codemirror_mode": {
    "name": "ipython",
    "version": 3
   },
   "file_extension": ".py",
   "mimetype": "text/x-python",
   "name": "python",
   "nbconvert_exporter": "python",
   "pygments_lexer": "ipython3",
   "version": "3.11.5"
  }
 },
 "nbformat": 4,
 "nbformat_minor": 5
}
